{
 "cells": [
  {
   "cell_type": "code",
   "execution_count": 1,
   "id": "e7bb94b4",
   "metadata": {},
   "outputs": [],
   "source": [
    "import tensorflow as tf\n",
    "import numpy as np\n",
    "import cv2\n",
    "import matplotlib.pyplot as plt\n",
    "import numpy as np\n",
    "from tensorflow import keras\n",
    "from tensorflow.keras import layers"
   ]
  },
  {
   "cell_type": "code",
   "execution_count": 2,
   "id": "ce7c013b",
   "metadata": {},
   "outputs": [],
   "source": [
    "def get_final_image(roi_gray):\n",
    "    roi = cv2.cvtColor(roi_gray, cv2.COLOR_GRAY2RGB)\n",
    "    final_image = cv2.resize(roi, (224, 224))\n",
    "    final_image = np.expand_dims(final_image, axis=0)\n",
    "    final_image = final_image / 255.0\n",
    "    return final_image\n",
    "\n",
    "def set_label(Predictions):\n",
    "    status = \"\"\n",
    "    predict = \"\"\n",
    "    label = np.argmax(Predictions)\n",
    "    if(label == 0):\n",
    "        status = \"Angry\"    \n",
    "    if(label == 1):\n",
    "        status = \"Disgust\"\n",
    "    if(label == 2):\n",
    "        status = \"Fear\"\n",
    "    if(label == 3):\n",
    "        status = \"Happy\"\n",
    "    if(label == 4):\n",
    "        status = \"Neutral\"\n",
    "    if(label == 5):\n",
    "        status = \"Sad\"\n",
    "    if(label == 6):\n",
    "        status = \"Surprise\"\n",
    "    predict = str(Predictions[0][label])\n",
    "    return (status, predict)\n",
    "\n",
    "def draw_label_and_rectangle(img, status, predict, x, y, w, h):\n",
    "    x1,y1,w1,h1 = 0,0,175,75\n",
    "    cv2.rectangle(img, (x1,x1), (x1+w1,y1+h1), (0,0,0), -1)\n",
    "    cv2.putText(img, status, (x1 + int(w1/10), y1+int(h1/2)), cv2.FONT_HERSHEY_SIMPLEX, 0.7, (0,0,255), 2)\n",
    "    cv2.putText(img, predict, (x1 + int(w1/10), y1+int(h1/1.3)), cv2.FONT_HERSHEY_SIMPLEX, 0.7, (0,0,255), 2)\n",
    "    cv2.rectangle(img, (x,y), (x+w, y+h), (0,0,255))\n",
    "    \n",
    "def set_cap_params():\n",
    "    cap.set(3,640) # set Width\n",
    "    cap.set(4,480) # set Height\n",
    "    cap.set(5,24) # set fps"
   ]
  },
  {
   "cell_type": "code",
   "execution_count": 4,
   "id": "930213b1",
   "metadata": {},
   "outputs": [],
   "source": [
    "faceCascade = cv2.CascadeClassifier('haarcascade_frontalface_default.xml')\n",
    "final_model = tf.keras.models.load_model('Final_model4.h5')\n",
    "\n",
    "cap = cv2.VideoCapture(0)\n",
    "set_cap_params()\n",
    "\n",
    "while True:\n",
    "    ret, img = cap.read()\n",
    "    gray = cv2.cvtColor(img, cv2.COLOR_BGR2GRAY)\n",
    "    faces = faceCascade.detectMultiScale(\n",
    "        gray,\n",
    "        scaleFactor=1.2,\n",
    "        minNeighbors=5,     \n",
    "        minSize=(100, 100)\n",
    "    )\n",
    "\n",
    "    for (x,y,w,h) in faces:\n",
    "        cv2.rectangle(img,(x,y),(x+w,y+h),(255,0,0),2)\n",
    "        roi_gray = gray[y:y+h, x:x+w]\n",
    "        \n",
    "    final_image = get_final_image(roi_gray)\n",
    "    Predictions = final_model.predict(final_image)\n",
    "    \n",
    "    (status, predict) = set_label(Predictions)\n",
    "    draw_label_and_rectangle(img,status, predict, x, y, w, h)\n",
    "    \n",
    "    cv2.imshow('video',img)\n",
    "\n",
    "    k = cv2.waitKey(30) & 0xff\n",
    "    if k == 27: # press 'ESC' to quit\n",
    "        break\n",
    "\n",
    "cap.release()\n",
    "cv2.destroyAllWindows()"
   ]
  },
  {
   "cell_type": "code",
   "execution_count": null,
   "id": "315da04c",
   "metadata": {},
   "outputs": [],
   "source": []
  },
  {
   "cell_type": "code",
   "execution_count": null,
   "id": "e8e4b622",
   "metadata": {},
   "outputs": [],
   "source": []
  },
  {
   "cell_type": "code",
   "execution_count": null,
   "id": "c45f7a2e",
   "metadata": {},
   "outputs": [],
   "source": []
  }
 ],
 "metadata": {
  "kernelspec": {
   "display_name": "Python 3 (ipykernel)",
   "language": "python",
   "name": "python3"
  },
  "language_info": {
   "codemirror_mode": {
    "name": "ipython",
    "version": 3
   },
   "file_extension": ".py",
   "mimetype": "text/x-python",
   "name": "python",
   "nbconvert_exporter": "python",
   "pygments_lexer": "ipython3",
   "version": "3.9.9"
  }
 },
 "nbformat": 4,
 "nbformat_minor": 5
}
